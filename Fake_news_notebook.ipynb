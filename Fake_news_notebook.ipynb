{
 "cells": [
  {
   "cell_type": "markdown",
   "metadata": {},
   "source": [
    "# Exploraion de données : Détection de fake news"
   ]
  },
  {
   "cell_type": "markdown",
   "metadata": {},
   "source": [
    "## Imports"
   ]
  },
  {
   "cell_type": "code",
   "execution_count": 181,
   "metadata": {
    "scrolled": true
   },
   "outputs": [],
   "source": [
    "import pandas as pd\n",
    "import matplotlib.pyplot as plt \n",
    "import seaborn as sns\n",
    "from nltk.stem.porter import PorterStemmer\n",
    "from nltk.tokenize import WhitespaceTokenizer \n",
    "import string\n",
    "from nltk import word_tokenize\n",
    "from nltk.corpus import stopwords\n",
    "from sklearn.pipeline import Pipeline\n",
    "from sklearn.feature_extraction.text import CountVectorizer\n",
    "from sklearn.feature_extraction.text import TfidfTransformer\n",
    "from sklearn.neural_network import MLPClassifier\n",
    "from sklearn.tree import DecisionTreeClassifier\n",
    "from sklearn.neighbors import KNeighborsClassifier\n",
    "from sklearn.model_selection import train_test_split\n",
    "from sklearn.metrics import classification_report"
   ]
  },
  {
   "cell_type": "markdown",
   "metadata": {},
   "source": [
    "## Extraction des données "
   ]
  },
  {
   "cell_type": "markdown",
   "metadata": {},
   "source": [
    "Dans cette partie on créera le data_frame qui nous permettra d'analyser les features et constituera les données d'aprenditssage pour la detection de fake news"
   ]
  },
  {
   "cell_type": "code",
   "execution_count": 182,
   "metadata": {},
   "outputs": [],
   "source": [
    "BF_real_df = pd.read_csv('./Data/BuzzFeed_real_news_content.csv')"
   ]
  },
  {
   "cell_type": "code",
   "execution_count": 183,
   "metadata": {},
   "outputs": [],
   "source": [
    "BF_fake_df = pd.read_csv('./Data/BuzzFeed_fake_news_content.csv')"
   ]
  },
  {
   "cell_type": "code",
   "execution_count": 184,
   "metadata": {},
   "outputs": [],
   "source": [
    "#On ajoute le dataframe des fake news à la suite des real news\n",
    "News_df = pd.concat([BF_real_df,BF_fake_df],ignore_index=True)"
   ]
  },
  {
   "cell_type": "code",
   "execution_count": 185,
   "metadata": {
    "scrolled": true
   },
   "outputs": [
    {
     "data": {
      "text/plain": [
       "(182, 12)"
      ]
     },
     "execution_count": 185,
     "metadata": {},
     "output_type": "execute_result"
    }
   ],
   "source": [
    "News_df.shape"
   ]
  },
  {
   "cell_type": "code",
   "execution_count": 186,
   "metadata": {
    "scrolled": true
   },
   "outputs": [
    {
     "data": {
      "text/html": [
       "<div>\n",
       "<style scoped>\n",
       "    .dataframe tbody tr th:only-of-type {\n",
       "        vertical-align: middle;\n",
       "    }\n",
       "\n",
       "    .dataframe tbody tr th {\n",
       "        vertical-align: top;\n",
       "    }\n",
       "\n",
       "    .dataframe thead th {\n",
       "        text-align: right;\n",
       "    }\n",
       "</style>\n",
       "<table border=\"1\" class=\"dataframe\">\n",
       "  <thead>\n",
       "    <tr style=\"text-align: right;\">\n",
       "      <th></th>\n",
       "      <th>id</th>\n",
       "      <th>title</th>\n",
       "      <th>text</th>\n",
       "      <th>url</th>\n",
       "      <th>top_img</th>\n",
       "      <th>authors</th>\n",
       "      <th>source</th>\n",
       "      <th>publish_date</th>\n",
       "      <th>movies</th>\n",
       "      <th>images</th>\n",
       "      <th>canonical_link</th>\n",
       "      <th>meta_data</th>\n",
       "    </tr>\n",
       "  </thead>\n",
       "  <tbody>\n",
       "    <tr>\n",
       "      <th>0</th>\n",
       "      <td>Real_1-Webpage</td>\n",
       "      <td>Another Terrorist Attack in NYC…Why Are we STI...</td>\n",
       "      <td>On Saturday, September 17 at 8:30 pm EST, an e...</td>\n",
       "      <td>http://eaglerising.com/36942/another-terrorist...</td>\n",
       "      <td>http://eaglerising.com/wp-content/uploads/2016...</td>\n",
       "      <td>View All Posts,Leonora Cravotta</td>\n",
       "      <td>http://eaglerising.com</td>\n",
       "      <td>{'$date': 1474528230000}</td>\n",
       "      <td>NaN</td>\n",
       "      <td>http://constitution.com/wp-content/uploads/201...</td>\n",
       "      <td>http://eaglerising.com/36942/another-terrorist...</td>\n",
       "      <td>{\"description\": \"\\u201cWe believe at this poin...</td>\n",
       "    </tr>\n",
       "    <tr>\n",
       "      <th>1</th>\n",
       "      <td>Real_10-Webpage</td>\n",
       "      <td>Donald Trump: Drugs a 'Very, Very Big Factor' ...</td>\n",
       "      <td>Less than a day after protests over the police...</td>\n",
       "      <td>http://abcn.ws/2d4lNn9</td>\n",
       "      <td>http://a.abcnews.com/images/Politics/AP_donald...</td>\n",
       "      <td>More Candace,Adam Kelsey,Abc News,More Adam</td>\n",
       "      <td>http://abcn.ws</td>\n",
       "      <td>NaN</td>\n",
       "      <td>NaN</td>\n",
       "      <td>http://www.googleadservices.com/pagead/convers...</td>\n",
       "      <td>http://abcnews.go.com/Politics/donald-trump-dr...</td>\n",
       "      <td>{\"fb_title\": \"Trump: Drugs a 'Very, Very Big F...</td>\n",
       "    </tr>\n",
       "    <tr>\n",
       "      <th>2</th>\n",
       "      <td>Real_11-Webpage</td>\n",
       "      <td>Obama To UN: ‘Giving Up Liberty, Enhances Secu...</td>\n",
       "      <td>Obama To UN: ‘Giving Up Liberty, Enhances Secu...</td>\n",
       "      <td>http://rightwingnews.com/barack-obama/obama-un...</td>\n",
       "      <td>http://rightwingnews.com/wp-content/uploads/20...</td>\n",
       "      <td>Cassy Fiano</td>\n",
       "      <td>http://rightwingnews.com</td>\n",
       "      <td>{'$date': 1474476044000}</td>\n",
       "      <td>https://www.youtube.com/embed/ji6pl5Vwrvk</td>\n",
       "      <td>http://rightwingnews.com/wp-content/uploads/20...</td>\n",
       "      <td>http://rightwingnews.com/barack-obama/obama-un...</td>\n",
       "      <td>{\"googlebot\": \"noimageindex\", \"og\": {\"site_nam...</td>\n",
       "    </tr>\n",
       "    <tr>\n",
       "      <th>3</th>\n",
       "      <td>Real_12-Webpage</td>\n",
       "      <td>Trump vs. Clinton: A Fundamental Clash over Ho...</td>\n",
       "      <td>Getty Images Wealth Of Nations Trump vs. Clint...</td>\n",
       "      <td>http://politi.co/2de2qs0</td>\n",
       "      <td>http://static.politico.com/e9/11/6144cdc24e319...</td>\n",
       "      <td>Jack Shafer,Erick Trickey,Zachary Karabell</td>\n",
       "      <td>http://politi.co</td>\n",
       "      <td>{'$date': 1474974420000}</td>\n",
       "      <td>NaN</td>\n",
       "      <td>https://static.politico.com/dims4/default/8a1c...</td>\n",
       "      <td>http://www.politico.com/magazine/story/2016/09...</td>\n",
       "      <td>{\"description\": \"He sees it as zero-sum. She b...</td>\n",
       "    </tr>\n",
       "    <tr>\n",
       "      <th>4</th>\n",
       "      <td>Real_13-Webpage</td>\n",
       "      <td>President Obama Vetoes 9/11 Victims Bill, Sett...</td>\n",
       "      <td>President Obama today vetoed a bill that would...</td>\n",
       "      <td>http://abcn.ws/2dh2NFs</td>\n",
       "      <td>http://a.abcnews.com/images/US/AP_Obama_BM_201...</td>\n",
       "      <td>John Parkinson,More John,Abc News,More Alexander</td>\n",
       "      <td>http://abcn.ws</td>\n",
       "      <td>NaN</td>\n",
       "      <td>NaN</td>\n",
       "      <td>http://www.googleadservices.com/pagead/convers...</td>\n",
       "      <td>http://abcnews.go.com/Politics/president-obama...</td>\n",
       "      <td>{\"fb_title\": \"President Obama Vetoes 9/11 Vict...</td>\n",
       "    </tr>\n",
       "    <tr>\n",
       "      <th>...</th>\n",
       "      <td>...</td>\n",
       "      <td>...</td>\n",
       "      <td>...</td>\n",
       "      <td>...</td>\n",
       "      <td>...</td>\n",
       "      <td>...</td>\n",
       "      <td>...</td>\n",
       "      <td>...</td>\n",
       "      <td>...</td>\n",
       "      <td>...</td>\n",
       "      <td>...</td>\n",
       "      <td>...</td>\n",
       "    </tr>\n",
       "    <tr>\n",
       "      <th>177</th>\n",
       "      <td>Fake_88-Webpage</td>\n",
       "      <td>Hillary’s TOP Donor Country Just Auctioned Off...</td>\n",
       "      <td>Hillary’s TOP Donor Country Just Auctioned Off...</td>\n",
       "      <td>http://rightwingnews.com/hillary-clinton-2/hil...</td>\n",
       "      <td>http://rightwingnews.com/wp-content/uploads/20...</td>\n",
       "      <td>Terresa Monroe-hamilton</td>\n",
       "      <td>http://rightwingnews.com</td>\n",
       "      <td>{'$date': 1474912025000}</td>\n",
       "      <td>NaN</td>\n",
       "      <td>http://1.gravatar.com/avatar/d35b77ff6c3900715...</td>\n",
       "      <td>http://rightwingnews.com/hillary-clinton-2/hil...</td>\n",
       "      <td>{\"googlebot\": \"noimageindex\", \"og\": {\"site_nam...</td>\n",
       "    </tr>\n",
       "    <tr>\n",
       "      <th>178</th>\n",
       "      <td>Fake_89-Webpage</td>\n",
       "      <td>Cavuto Just Exposed Lester Holt's Lies During ...</td>\n",
       "      <td>Advertisement - story continues below\\n\\nThe f...</td>\n",
       "      <td>http://conservativetribune.com/lester-holt-lie...</td>\n",
       "      <td>http://conservativetribune.com/wp-content/uplo...</td>\n",
       "      <td>Martin Lioll,John Falkenberg,Ben Marquis,Kimbe...</td>\n",
       "      <td>http://conservativetribune.com</td>\n",
       "      <td>{'$date': 1474934400000}</td>\n",
       "      <td>https://www.youtube.com/embed/ThwaDSaoGU8?feat...</td>\n",
       "      <td>http://conservativetribune.com/wp-content/uplo...</td>\n",
       "      <td>http://conservativetribune.com/lester-holt-lie...</td>\n",
       "      <td>{\"description\": \"People are already calling th...</td>\n",
       "    </tr>\n",
       "    <tr>\n",
       "      <th>179</th>\n",
       "      <td>Fake_9-Webpage</td>\n",
       "      <td>The AP, In 2004, Said Your Boy Obama Was BORN ...</td>\n",
       "      <td>Well THAT’S Weird. If the Birther movement is ...</td>\n",
       "      <td>http://clashdaily.com/2016/09/dear-cnn-ap-2004...</td>\n",
       "      <td>http://clashdaily.com/wp-content/uploads/2016/...</td>\n",
       "      <td>Rich Witmer,Doug Giles</td>\n",
       "      <td>http://clashdaily.com</td>\n",
       "      <td>{'$date': 1474207108000}</td>\n",
       "      <td>NaN</td>\n",
       "      <td>http://clashdaily.wpengine.netdna-cdn.com/wp-c...</td>\n",
       "      <td>http://clashdaily.com/2016/09/dear-cnn-ap-2004...</td>\n",
       "      <td>{\"googlebot\": \"noimageindex\", \"og\": {\"site_nam...</td>\n",
       "    </tr>\n",
       "    <tr>\n",
       "      <th>180</th>\n",
       "      <td>Fake_90-Webpage</td>\n",
       "      <td>People Noticed Something Odd About Hillary's O...</td>\n",
       "      <td>\\n\\nThere’s a lot to be discussed about last n...</td>\n",
       "      <td>http://www.thepoliticalinsider.com/first-presi...</td>\n",
       "      <td>http://assets.thepoliticalinsider.com.s3.amazo...</td>\n",
       "      <td>NaN</td>\n",
       "      <td>http://www.thepoliticalinsider.com</td>\n",
       "      <td>{'$date': 1475000011000}</td>\n",
       "      <td>NaN</td>\n",
       "      <td>http://1.gravatar.com/avatar/71be986d321b3d520...</td>\n",
       "      <td>http://thepoliticalinsider.com/first-president...</td>\n",
       "      <td>{\"description\": \"One thing that has baffled ma...</td>\n",
       "    </tr>\n",
       "    <tr>\n",
       "      <th>181</th>\n",
       "      <td>Fake_91-Webpage</td>\n",
       "      <td>People Noticed Something Odd About Hillary’s O...</td>\n",
       "      <td>People Noticed Something Odd About Hillary’s O...</td>\n",
       "      <td>http://rightwingnews.com/top-news/people-notic...</td>\n",
       "      <td>http://rightwingnews.com/wp-content/uploads/20...</td>\n",
       "      <td>Lisa Smith</td>\n",
       "      <td>http://rightwingnews.com</td>\n",
       "      <td>{'$date': 1475010040000}</td>\n",
       "      <td>NaN</td>\n",
       "      <td>http://0.gravatar.com/avatar/3728144c20aefded7...</td>\n",
       "      <td>http://rightwingnews.com/top-news/people-notic...</td>\n",
       "      <td>{\"googlebot\": \"noimageindex\", \"og\": {\"site_nam...</td>\n",
       "    </tr>\n",
       "  </tbody>\n",
       "</table>\n",
       "<p>182 rows × 12 columns</p>\n",
       "</div>"
      ],
      "text/plain": [
       "                  id                                              title  \\\n",
       "0     Real_1-Webpage  Another Terrorist Attack in NYC…Why Are we STI...   \n",
       "1    Real_10-Webpage  Donald Trump: Drugs a 'Very, Very Big Factor' ...   \n",
       "2    Real_11-Webpage  Obama To UN: ‘Giving Up Liberty, Enhances Secu...   \n",
       "3    Real_12-Webpage  Trump vs. Clinton: A Fundamental Clash over Ho...   \n",
       "4    Real_13-Webpage  President Obama Vetoes 9/11 Victims Bill, Sett...   \n",
       "..               ...                                                ...   \n",
       "177  Fake_88-Webpage  Hillary’s TOP Donor Country Just Auctioned Off...   \n",
       "178  Fake_89-Webpage  Cavuto Just Exposed Lester Holt's Lies During ...   \n",
       "179   Fake_9-Webpage  The AP, In 2004, Said Your Boy Obama Was BORN ...   \n",
       "180  Fake_90-Webpage  People Noticed Something Odd About Hillary's O...   \n",
       "181  Fake_91-Webpage  People Noticed Something Odd About Hillary’s O...   \n",
       "\n",
       "                                                  text  \\\n",
       "0    On Saturday, September 17 at 8:30 pm EST, an e...   \n",
       "1    Less than a day after protests over the police...   \n",
       "2    Obama To UN: ‘Giving Up Liberty, Enhances Secu...   \n",
       "3    Getty Images Wealth Of Nations Trump vs. Clint...   \n",
       "4    President Obama today vetoed a bill that would...   \n",
       "..                                                 ...   \n",
       "177  Hillary’s TOP Donor Country Just Auctioned Off...   \n",
       "178  Advertisement - story continues below\\n\\nThe f...   \n",
       "179  Well THAT’S Weird. If the Birther movement is ...   \n",
       "180  \\n\\nThere’s a lot to be discussed about last n...   \n",
       "181  People Noticed Something Odd About Hillary’s O...   \n",
       "\n",
       "                                                   url  \\\n",
       "0    http://eaglerising.com/36942/another-terrorist...   \n",
       "1                               http://abcn.ws/2d4lNn9   \n",
       "2    http://rightwingnews.com/barack-obama/obama-un...   \n",
       "3                             http://politi.co/2de2qs0   \n",
       "4                               http://abcn.ws/2dh2NFs   \n",
       "..                                                 ...   \n",
       "177  http://rightwingnews.com/hillary-clinton-2/hil...   \n",
       "178  http://conservativetribune.com/lester-holt-lie...   \n",
       "179  http://clashdaily.com/2016/09/dear-cnn-ap-2004...   \n",
       "180  http://www.thepoliticalinsider.com/first-presi...   \n",
       "181  http://rightwingnews.com/top-news/people-notic...   \n",
       "\n",
       "                                               top_img  \\\n",
       "0    http://eaglerising.com/wp-content/uploads/2016...   \n",
       "1    http://a.abcnews.com/images/Politics/AP_donald...   \n",
       "2    http://rightwingnews.com/wp-content/uploads/20...   \n",
       "3    http://static.politico.com/e9/11/6144cdc24e319...   \n",
       "4    http://a.abcnews.com/images/US/AP_Obama_BM_201...   \n",
       "..                                                 ...   \n",
       "177  http://rightwingnews.com/wp-content/uploads/20...   \n",
       "178  http://conservativetribune.com/wp-content/uplo...   \n",
       "179  http://clashdaily.com/wp-content/uploads/2016/...   \n",
       "180  http://assets.thepoliticalinsider.com.s3.amazo...   \n",
       "181  http://rightwingnews.com/wp-content/uploads/20...   \n",
       "\n",
       "                                               authors  \\\n",
       "0                      View All Posts,Leonora Cravotta   \n",
       "1          More Candace,Adam Kelsey,Abc News,More Adam   \n",
       "2                                          Cassy Fiano   \n",
       "3           Jack Shafer,Erick Trickey,Zachary Karabell   \n",
       "4     John Parkinson,More John,Abc News,More Alexander   \n",
       "..                                                 ...   \n",
       "177                            Terresa Monroe-hamilton   \n",
       "178  Martin Lioll,John Falkenberg,Ben Marquis,Kimbe...   \n",
       "179                             Rich Witmer,Doug Giles   \n",
       "180                                                NaN   \n",
       "181                                         Lisa Smith   \n",
       "\n",
       "                                 source              publish_date  \\\n",
       "0                http://eaglerising.com  {'$date': 1474528230000}   \n",
       "1                        http://abcn.ws                       NaN   \n",
       "2              http://rightwingnews.com  {'$date': 1474476044000}   \n",
       "3                      http://politi.co  {'$date': 1474974420000}   \n",
       "4                        http://abcn.ws                       NaN   \n",
       "..                                  ...                       ...   \n",
       "177            http://rightwingnews.com  {'$date': 1474912025000}   \n",
       "178      http://conservativetribune.com  {'$date': 1474934400000}   \n",
       "179               http://clashdaily.com  {'$date': 1474207108000}   \n",
       "180  http://www.thepoliticalinsider.com  {'$date': 1475000011000}   \n",
       "181            http://rightwingnews.com  {'$date': 1475010040000}   \n",
       "\n",
       "                                                movies  \\\n",
       "0                                                  NaN   \n",
       "1                                                  NaN   \n",
       "2            https://www.youtube.com/embed/ji6pl5Vwrvk   \n",
       "3                                                  NaN   \n",
       "4                                                  NaN   \n",
       "..                                                 ...   \n",
       "177                                                NaN   \n",
       "178  https://www.youtube.com/embed/ThwaDSaoGU8?feat...   \n",
       "179                                                NaN   \n",
       "180                                                NaN   \n",
       "181                                                NaN   \n",
       "\n",
       "                                                images  \\\n",
       "0    http://constitution.com/wp-content/uploads/201...   \n",
       "1    http://www.googleadservices.com/pagead/convers...   \n",
       "2    http://rightwingnews.com/wp-content/uploads/20...   \n",
       "3    https://static.politico.com/dims4/default/8a1c...   \n",
       "4    http://www.googleadservices.com/pagead/convers...   \n",
       "..                                                 ...   \n",
       "177  http://1.gravatar.com/avatar/d35b77ff6c3900715...   \n",
       "178  http://conservativetribune.com/wp-content/uplo...   \n",
       "179  http://clashdaily.wpengine.netdna-cdn.com/wp-c...   \n",
       "180  http://1.gravatar.com/avatar/71be986d321b3d520...   \n",
       "181  http://0.gravatar.com/avatar/3728144c20aefded7...   \n",
       "\n",
       "                                        canonical_link  \\\n",
       "0    http://eaglerising.com/36942/another-terrorist...   \n",
       "1    http://abcnews.go.com/Politics/donald-trump-dr...   \n",
       "2    http://rightwingnews.com/barack-obama/obama-un...   \n",
       "3    http://www.politico.com/magazine/story/2016/09...   \n",
       "4    http://abcnews.go.com/Politics/president-obama...   \n",
       "..                                                 ...   \n",
       "177  http://rightwingnews.com/hillary-clinton-2/hil...   \n",
       "178  http://conservativetribune.com/lester-holt-lie...   \n",
       "179  http://clashdaily.com/2016/09/dear-cnn-ap-2004...   \n",
       "180  http://thepoliticalinsider.com/first-president...   \n",
       "181  http://rightwingnews.com/top-news/people-notic...   \n",
       "\n",
       "                                             meta_data  \n",
       "0    {\"description\": \"\\u201cWe believe at this poin...  \n",
       "1    {\"fb_title\": \"Trump: Drugs a 'Very, Very Big F...  \n",
       "2    {\"googlebot\": \"noimageindex\", \"og\": {\"site_nam...  \n",
       "3    {\"description\": \"He sees it as zero-sum. She b...  \n",
       "4    {\"fb_title\": \"President Obama Vetoes 9/11 Vict...  \n",
       "..                                                 ...  \n",
       "177  {\"googlebot\": \"noimageindex\", \"og\": {\"site_nam...  \n",
       "178  {\"description\": \"People are already calling th...  \n",
       "179  {\"googlebot\": \"noimageindex\", \"og\": {\"site_nam...  \n",
       "180  {\"description\": \"One thing that has baffled ma...  \n",
       "181  {\"googlebot\": \"noimageindex\", \"og\": {\"site_nam...  \n",
       "\n",
       "[182 rows x 12 columns]"
      ]
     },
     "execution_count": 186,
     "metadata": {},
     "output_type": "execute_result"
    }
   ],
   "source": [
    "News_df"
   ]
  },
  {
   "cell_type": "code",
   "execution_count": 187,
   "metadata": {},
   "outputs": [],
   "source": [
    "#Création d'une colonnes représentant notre cible (Real or Fake)\n",
    "News_df[\"news_type\"] = News_df[\"id\"].apply(lambda x : x.split('_')[0])"
   ]
  },
  {
   "cell_type": "code",
   "execution_count": 188,
   "metadata": {},
   "outputs": [
    {
     "name": "stdout",
     "output_type": "stream",
     "text": [
      "<class 'pandas.core.frame.DataFrame'>\n",
      "RangeIndex: 182 entries, 0 to 181\n",
      "Data columns (total 13 columns):\n",
      " #   Column          Non-Null Count  Dtype \n",
      "---  ------          --------------  ----- \n",
      " 0   id              182 non-null    object\n",
      " 1   title           182 non-null    object\n",
      " 2   text            182 non-null    object\n",
      " 3   url             174 non-null    object\n",
      " 4   top_img         172 non-null    object\n",
      " 5   authors         141 non-null    object\n",
      " 6   source          174 non-null    object\n",
      " 7   publish_date    133 non-null    object\n",
      " 8   movies          25 non-null     object\n",
      " 9   images          172 non-null    object\n",
      " 10  canonical_link  170 non-null    object\n",
      " 11  meta_data       182 non-null    object\n",
      " 12  news_type       182 non-null    object\n",
      "dtypes: object(13)\n",
      "memory usage: 18.6+ KB\n"
     ]
    }
   ],
   "source": [
    "News_df.info()"
   ]
  },
  {
   "cell_type": "code",
   "execution_count": 189,
   "metadata": {},
   "outputs": [],
   "source": [
    "#On garde que les colonnes qui nous interessent \n",
    "New_df_clean = News_df.drop(['id','url', 'top_img','authors','publish_date','canonical_link','meta_data'],axis=1)"
   ]
  },
  {
   "cell_type": "code",
   "execution_count": 190,
   "metadata": {},
   "outputs": [
    {
     "data": {
      "text/html": [
       "<div>\n",
       "<style scoped>\n",
       "    .dataframe tbody tr th:only-of-type {\n",
       "        vertical-align: middle;\n",
       "    }\n",
       "\n",
       "    .dataframe tbody tr th {\n",
       "        vertical-align: top;\n",
       "    }\n",
       "\n",
       "    .dataframe thead th {\n",
       "        text-align: right;\n",
       "    }\n",
       "</style>\n",
       "<table border=\"1\" class=\"dataframe\">\n",
       "  <thead>\n",
       "    <tr style=\"text-align: right;\">\n",
       "      <th></th>\n",
       "      <th>title</th>\n",
       "      <th>text</th>\n",
       "      <th>source</th>\n",
       "      <th>movies</th>\n",
       "      <th>images</th>\n",
       "      <th>news_type</th>\n",
       "    </tr>\n",
       "  </thead>\n",
       "  <tbody>\n",
       "    <tr>\n",
       "      <th>0</th>\n",
       "      <td>Another Terrorist Attack in NYC…Why Are we STI...</td>\n",
       "      <td>On Saturday, September 17 at 8:30 pm EST, an e...</td>\n",
       "      <td>http://eaglerising.com</td>\n",
       "      <td>NaN</td>\n",
       "      <td>http://constitution.com/wp-content/uploads/201...</td>\n",
       "      <td>Real</td>\n",
       "    </tr>\n",
       "    <tr>\n",
       "      <th>1</th>\n",
       "      <td>Donald Trump: Drugs a 'Very, Very Big Factor' ...</td>\n",
       "      <td>Less than a day after protests over the police...</td>\n",
       "      <td>http://abcn.ws</td>\n",
       "      <td>NaN</td>\n",
       "      <td>http://www.googleadservices.com/pagead/convers...</td>\n",
       "      <td>Real</td>\n",
       "    </tr>\n",
       "    <tr>\n",
       "      <th>2</th>\n",
       "      <td>Obama To UN: ‘Giving Up Liberty, Enhances Secu...</td>\n",
       "      <td>Obama To UN: ‘Giving Up Liberty, Enhances Secu...</td>\n",
       "      <td>http://rightwingnews.com</td>\n",
       "      <td>https://www.youtube.com/embed/ji6pl5Vwrvk</td>\n",
       "      <td>http://rightwingnews.com/wp-content/uploads/20...</td>\n",
       "      <td>Real</td>\n",
       "    </tr>\n",
       "    <tr>\n",
       "      <th>3</th>\n",
       "      <td>Trump vs. Clinton: A Fundamental Clash over Ho...</td>\n",
       "      <td>Getty Images Wealth Of Nations Trump vs. Clint...</td>\n",
       "      <td>http://politi.co</td>\n",
       "      <td>NaN</td>\n",
       "      <td>https://static.politico.com/dims4/default/8a1c...</td>\n",
       "      <td>Real</td>\n",
       "    </tr>\n",
       "    <tr>\n",
       "      <th>4</th>\n",
       "      <td>President Obama Vetoes 9/11 Victims Bill, Sett...</td>\n",
       "      <td>President Obama today vetoed a bill that would...</td>\n",
       "      <td>http://abcn.ws</td>\n",
       "      <td>NaN</td>\n",
       "      <td>http://www.googleadservices.com/pagead/convers...</td>\n",
       "      <td>Real</td>\n",
       "    </tr>\n",
       "    <tr>\n",
       "      <th>...</th>\n",
       "      <td>...</td>\n",
       "      <td>...</td>\n",
       "      <td>...</td>\n",
       "      <td>...</td>\n",
       "      <td>...</td>\n",
       "      <td>...</td>\n",
       "    </tr>\n",
       "    <tr>\n",
       "      <th>177</th>\n",
       "      <td>Hillary’s TOP Donor Country Just Auctioned Off...</td>\n",
       "      <td>Hillary’s TOP Donor Country Just Auctioned Off...</td>\n",
       "      <td>http://rightwingnews.com</td>\n",
       "      <td>NaN</td>\n",
       "      <td>http://1.gravatar.com/avatar/d35b77ff6c3900715...</td>\n",
       "      <td>Fake</td>\n",
       "    </tr>\n",
       "    <tr>\n",
       "      <th>178</th>\n",
       "      <td>Cavuto Just Exposed Lester Holt's Lies During ...</td>\n",
       "      <td>Advertisement - story continues below\\n\\nThe f...</td>\n",
       "      <td>http://conservativetribune.com</td>\n",
       "      <td>https://www.youtube.com/embed/ThwaDSaoGU8?feat...</td>\n",
       "      <td>http://conservativetribune.com/wp-content/uplo...</td>\n",
       "      <td>Fake</td>\n",
       "    </tr>\n",
       "    <tr>\n",
       "      <th>179</th>\n",
       "      <td>The AP, In 2004, Said Your Boy Obama Was BORN ...</td>\n",
       "      <td>Well THAT’S Weird. If the Birther movement is ...</td>\n",
       "      <td>http://clashdaily.com</td>\n",
       "      <td>NaN</td>\n",
       "      <td>http://clashdaily.wpengine.netdna-cdn.com/wp-c...</td>\n",
       "      <td>Fake</td>\n",
       "    </tr>\n",
       "    <tr>\n",
       "      <th>180</th>\n",
       "      <td>People Noticed Something Odd About Hillary's O...</td>\n",
       "      <td>\\n\\nThere’s a lot to be discussed about last n...</td>\n",
       "      <td>http://www.thepoliticalinsider.com</td>\n",
       "      <td>NaN</td>\n",
       "      <td>http://1.gravatar.com/avatar/71be986d321b3d520...</td>\n",
       "      <td>Fake</td>\n",
       "    </tr>\n",
       "    <tr>\n",
       "      <th>181</th>\n",
       "      <td>People Noticed Something Odd About Hillary’s O...</td>\n",
       "      <td>People Noticed Something Odd About Hillary’s O...</td>\n",
       "      <td>http://rightwingnews.com</td>\n",
       "      <td>NaN</td>\n",
       "      <td>http://0.gravatar.com/avatar/3728144c20aefded7...</td>\n",
       "      <td>Fake</td>\n",
       "    </tr>\n",
       "  </tbody>\n",
       "</table>\n",
       "<p>182 rows × 6 columns</p>\n",
       "</div>"
      ],
      "text/plain": [
       "                                                 title  \\\n",
       "0    Another Terrorist Attack in NYC…Why Are we STI...   \n",
       "1    Donald Trump: Drugs a 'Very, Very Big Factor' ...   \n",
       "2    Obama To UN: ‘Giving Up Liberty, Enhances Secu...   \n",
       "3    Trump vs. Clinton: A Fundamental Clash over Ho...   \n",
       "4    President Obama Vetoes 9/11 Victims Bill, Sett...   \n",
       "..                                                 ...   \n",
       "177  Hillary’s TOP Donor Country Just Auctioned Off...   \n",
       "178  Cavuto Just Exposed Lester Holt's Lies During ...   \n",
       "179  The AP, In 2004, Said Your Boy Obama Was BORN ...   \n",
       "180  People Noticed Something Odd About Hillary's O...   \n",
       "181  People Noticed Something Odd About Hillary’s O...   \n",
       "\n",
       "                                                  text  \\\n",
       "0    On Saturday, September 17 at 8:30 pm EST, an e...   \n",
       "1    Less than a day after protests over the police...   \n",
       "2    Obama To UN: ‘Giving Up Liberty, Enhances Secu...   \n",
       "3    Getty Images Wealth Of Nations Trump vs. Clint...   \n",
       "4    President Obama today vetoed a bill that would...   \n",
       "..                                                 ...   \n",
       "177  Hillary’s TOP Donor Country Just Auctioned Off...   \n",
       "178  Advertisement - story continues below\\n\\nThe f...   \n",
       "179  Well THAT’S Weird. If the Birther movement is ...   \n",
       "180  \\n\\nThere’s a lot to be discussed about last n...   \n",
       "181  People Noticed Something Odd About Hillary’s O...   \n",
       "\n",
       "                                 source  \\\n",
       "0                http://eaglerising.com   \n",
       "1                        http://abcn.ws   \n",
       "2              http://rightwingnews.com   \n",
       "3                      http://politi.co   \n",
       "4                        http://abcn.ws   \n",
       "..                                  ...   \n",
       "177            http://rightwingnews.com   \n",
       "178      http://conservativetribune.com   \n",
       "179               http://clashdaily.com   \n",
       "180  http://www.thepoliticalinsider.com   \n",
       "181            http://rightwingnews.com   \n",
       "\n",
       "                                                movies  \\\n",
       "0                                                  NaN   \n",
       "1                                                  NaN   \n",
       "2            https://www.youtube.com/embed/ji6pl5Vwrvk   \n",
       "3                                                  NaN   \n",
       "4                                                  NaN   \n",
       "..                                                 ...   \n",
       "177                                                NaN   \n",
       "178  https://www.youtube.com/embed/ThwaDSaoGU8?feat...   \n",
       "179                                                NaN   \n",
       "180                                                NaN   \n",
       "181                                                NaN   \n",
       "\n",
       "                                                images news_type  \n",
       "0    http://constitution.com/wp-content/uploads/201...      Real  \n",
       "1    http://www.googleadservices.com/pagead/convers...      Real  \n",
       "2    http://rightwingnews.com/wp-content/uploads/20...      Real  \n",
       "3    https://static.politico.com/dims4/default/8a1c...      Real  \n",
       "4    http://www.googleadservices.com/pagead/convers...      Real  \n",
       "..                                                 ...       ...  \n",
       "177  http://1.gravatar.com/avatar/d35b77ff6c3900715...      Fake  \n",
       "178  http://conservativetribune.com/wp-content/uplo...      Fake  \n",
       "179  http://clashdaily.wpengine.netdna-cdn.com/wp-c...      Fake  \n",
       "180  http://1.gravatar.com/avatar/71be986d321b3d520...      Fake  \n",
       "181  http://0.gravatar.com/avatar/3728144c20aefded7...      Fake  \n",
       "\n",
       "[182 rows x 6 columns]"
      ]
     },
     "execution_count": 190,
     "metadata": {},
     "output_type": "execute_result"
    }
   ],
   "source": [
    "New_df_clean"
   ]
  },
  {
   "cell_type": "code",
   "execution_count": 191,
   "metadata": {},
   "outputs": [],
   "source": [
    "# Creation des colonnes aves  1 si présence de video/image, 0 sinon\n",
    "New_df_clean['Has_movie']=New_df_clean['movies'].apply(lambda x: 0 if str(x)=='nan' else 1)\n",
    "New_df_clean['Has_images']=New_df_clean['images'].apply(lambda x: 0 if str(x)=='nan' else 1)\n",
    "New_df_clean = New_df_clean.drop([\"movies\",\"images\"],axis=1)"
   ]
  },
  {
   "cell_type": "code",
   "execution_count": 192,
   "metadata": {},
   "outputs": [
    {
     "data": {
      "text/plain": [
       "title         0\n",
       "text          0\n",
       "source        8\n",
       "news_type     0\n",
       "Has_movie     0\n",
       "Has_images    0\n",
       "dtype: int64"
      ]
     },
     "execution_count": 192,
     "metadata": {},
     "output_type": "execute_result"
    }
   ],
   "source": [
    "#On vérifie s'il reste des valeurs vides\n",
    "New_df_clean.isnull().sum()"
   ]
  },
  {
   "cell_type": "code",
   "execution_count": 193,
   "metadata": {},
   "outputs": [
    {
     "data": {
      "text/plain": [
       "(182, 6)"
      ]
     },
     "execution_count": 193,
     "metadata": {},
     "output_type": "execute_result"
    }
   ],
   "source": [
    "New_df_clean.shape"
   ]
  },
  {
   "cell_type": "code",
   "execution_count": 194,
   "metadata": {},
   "outputs": [],
   "source": [
    "#Supression des lignes avec des valeurs vides\n",
    "New_df_clean = New_df_clean.dropna()"
   ]
  },
  {
   "cell_type": "code",
   "execution_count": 195,
   "metadata": {},
   "outputs": [
    {
     "data": {
      "text/plain": [
       "(174, 6)"
      ]
     },
     "execution_count": 195,
     "metadata": {},
     "output_type": "execute_result"
    }
   ],
   "source": [
    "New_df_clean.shape"
   ]
  },
  {
   "cell_type": "code",
   "execution_count": 196,
   "metadata": {},
   "outputs": [
    {
     "data": {
      "text/plain": [
       "title         0\n",
       "text          0\n",
       "source        0\n",
       "news_type     0\n",
       "Has_movie     0\n",
       "Has_images    0\n",
       "dtype: int64"
      ]
     },
     "execution_count": 196,
     "metadata": {},
     "output_type": "execute_result"
    }
   ],
   "source": [
    "New_df_clean.isnull().sum()"
   ]
  },
  {
   "cell_type": "code",
   "execution_count": 197,
   "metadata": {},
   "outputs": [
    {
     "name": "stdout",
     "output_type": "stream",
     "text": [
      "<class 'pandas.core.frame.DataFrame'>\n",
      "Int64Index: 174 entries, 0 to 181\n",
      "Data columns (total 6 columns):\n",
      " #   Column      Non-Null Count  Dtype \n",
      "---  ------      --------------  ----- \n",
      " 0   title       174 non-null    object\n",
      " 1   text        174 non-null    object\n",
      " 2   source      174 non-null    object\n",
      " 3   news_type   174 non-null    object\n",
      " 4   Has_movie   174 non-null    int64 \n",
      " 5   Has_images  174 non-null    int64 \n",
      "dtypes: int64(2), object(4)\n",
      "memory usage: 9.5+ KB\n"
     ]
    }
   ],
   "source": [
    "New_df_clean.info()"
   ]
  },
  {
   "cell_type": "code",
   "execution_count": 198,
   "metadata": {
    "scrolled": true
   },
   "outputs": [
    {
     "data": {
      "text/html": [
       "<div>\n",
       "<style scoped>\n",
       "    .dataframe tbody tr th:only-of-type {\n",
       "        vertical-align: middle;\n",
       "    }\n",
       "\n",
       "    .dataframe tbody tr th {\n",
       "        vertical-align: top;\n",
       "    }\n",
       "\n",
       "    .dataframe thead th {\n",
       "        text-align: right;\n",
       "    }\n",
       "</style>\n",
       "<table border=\"1\" class=\"dataframe\">\n",
       "  <thead>\n",
       "    <tr style=\"text-align: right;\">\n",
       "      <th></th>\n",
       "      <th>title</th>\n",
       "      <th>text</th>\n",
       "      <th>source</th>\n",
       "      <th>news_type</th>\n",
       "      <th>Has_movie</th>\n",
       "      <th>Has_images</th>\n",
       "    </tr>\n",
       "  </thead>\n",
       "  <tbody>\n",
       "    <tr>\n",
       "      <th>0</th>\n",
       "      <td>Another Terrorist Attack in NYC…Why Are we STI...</td>\n",
       "      <td>On Saturday, September 17 at 8:30 pm EST, an e...</td>\n",
       "      <td>http://eaglerising.com</td>\n",
       "      <td>Real</td>\n",
       "      <td>0</td>\n",
       "      <td>1</td>\n",
       "    </tr>\n",
       "    <tr>\n",
       "      <th>1</th>\n",
       "      <td>Donald Trump: Drugs a 'Very, Very Big Factor' ...</td>\n",
       "      <td>Less than a day after protests over the police...</td>\n",
       "      <td>http://abcn.ws</td>\n",
       "      <td>Real</td>\n",
       "      <td>0</td>\n",
       "      <td>1</td>\n",
       "    </tr>\n",
       "    <tr>\n",
       "      <th>2</th>\n",
       "      <td>Obama To UN: ‘Giving Up Liberty, Enhances Secu...</td>\n",
       "      <td>Obama To UN: ‘Giving Up Liberty, Enhances Secu...</td>\n",
       "      <td>http://rightwingnews.com</td>\n",
       "      <td>Real</td>\n",
       "      <td>1</td>\n",
       "      <td>1</td>\n",
       "    </tr>\n",
       "    <tr>\n",
       "      <th>3</th>\n",
       "      <td>Trump vs. Clinton: A Fundamental Clash over Ho...</td>\n",
       "      <td>Getty Images Wealth Of Nations Trump vs. Clint...</td>\n",
       "      <td>http://politi.co</td>\n",
       "      <td>Real</td>\n",
       "      <td>0</td>\n",
       "      <td>1</td>\n",
       "    </tr>\n",
       "    <tr>\n",
       "      <th>4</th>\n",
       "      <td>President Obama Vetoes 9/11 Victims Bill, Sett...</td>\n",
       "      <td>President Obama today vetoed a bill that would...</td>\n",
       "      <td>http://abcn.ws</td>\n",
       "      <td>Real</td>\n",
       "      <td>0</td>\n",
       "      <td>1</td>\n",
       "    </tr>\n",
       "    <tr>\n",
       "      <th>...</th>\n",
       "      <td>...</td>\n",
       "      <td>...</td>\n",
       "      <td>...</td>\n",
       "      <td>...</td>\n",
       "      <td>...</td>\n",
       "      <td>...</td>\n",
       "    </tr>\n",
       "    <tr>\n",
       "      <th>177</th>\n",
       "      <td>Hillary’s TOP Donor Country Just Auctioned Off...</td>\n",
       "      <td>Hillary’s TOP Donor Country Just Auctioned Off...</td>\n",
       "      <td>http://rightwingnews.com</td>\n",
       "      <td>Fake</td>\n",
       "      <td>0</td>\n",
       "      <td>1</td>\n",
       "    </tr>\n",
       "    <tr>\n",
       "      <th>178</th>\n",
       "      <td>Cavuto Just Exposed Lester Holt's Lies During ...</td>\n",
       "      <td>Advertisement - story continues below\\n\\nThe f...</td>\n",
       "      <td>http://conservativetribune.com</td>\n",
       "      <td>Fake</td>\n",
       "      <td>1</td>\n",
       "      <td>1</td>\n",
       "    </tr>\n",
       "    <tr>\n",
       "      <th>179</th>\n",
       "      <td>The AP, In 2004, Said Your Boy Obama Was BORN ...</td>\n",
       "      <td>Well THAT’S Weird. If the Birther movement is ...</td>\n",
       "      <td>http://clashdaily.com</td>\n",
       "      <td>Fake</td>\n",
       "      <td>0</td>\n",
       "      <td>1</td>\n",
       "    </tr>\n",
       "    <tr>\n",
       "      <th>180</th>\n",
       "      <td>People Noticed Something Odd About Hillary's O...</td>\n",
       "      <td>\\n\\nThere’s a lot to be discussed about last n...</td>\n",
       "      <td>http://www.thepoliticalinsider.com</td>\n",
       "      <td>Fake</td>\n",
       "      <td>0</td>\n",
       "      <td>1</td>\n",
       "    </tr>\n",
       "    <tr>\n",
       "      <th>181</th>\n",
       "      <td>People Noticed Something Odd About Hillary’s O...</td>\n",
       "      <td>People Noticed Something Odd About Hillary’s O...</td>\n",
       "      <td>http://rightwingnews.com</td>\n",
       "      <td>Fake</td>\n",
       "      <td>0</td>\n",
       "      <td>1</td>\n",
       "    </tr>\n",
       "  </tbody>\n",
       "</table>\n",
       "<p>174 rows × 6 columns</p>\n",
       "</div>"
      ],
      "text/plain": [
       "                                                 title  \\\n",
       "0    Another Terrorist Attack in NYC…Why Are we STI...   \n",
       "1    Donald Trump: Drugs a 'Very, Very Big Factor' ...   \n",
       "2    Obama To UN: ‘Giving Up Liberty, Enhances Secu...   \n",
       "3    Trump vs. Clinton: A Fundamental Clash over Ho...   \n",
       "4    President Obama Vetoes 9/11 Victims Bill, Sett...   \n",
       "..                                                 ...   \n",
       "177  Hillary’s TOP Donor Country Just Auctioned Off...   \n",
       "178  Cavuto Just Exposed Lester Holt's Lies During ...   \n",
       "179  The AP, In 2004, Said Your Boy Obama Was BORN ...   \n",
       "180  People Noticed Something Odd About Hillary's O...   \n",
       "181  People Noticed Something Odd About Hillary’s O...   \n",
       "\n",
       "                                                  text  \\\n",
       "0    On Saturday, September 17 at 8:30 pm EST, an e...   \n",
       "1    Less than a day after protests over the police...   \n",
       "2    Obama To UN: ‘Giving Up Liberty, Enhances Secu...   \n",
       "3    Getty Images Wealth Of Nations Trump vs. Clint...   \n",
       "4    President Obama today vetoed a bill that would...   \n",
       "..                                                 ...   \n",
       "177  Hillary’s TOP Donor Country Just Auctioned Off...   \n",
       "178  Advertisement - story continues below\\n\\nThe f...   \n",
       "179  Well THAT’S Weird. If the Birther movement is ...   \n",
       "180  \\n\\nThere’s a lot to be discussed about last n...   \n",
       "181  People Noticed Something Odd About Hillary’s O...   \n",
       "\n",
       "                                 source news_type  Has_movie  Has_images  \n",
       "0                http://eaglerising.com      Real          0           1  \n",
       "1                        http://abcn.ws      Real          0           1  \n",
       "2              http://rightwingnews.com      Real          1           1  \n",
       "3                      http://politi.co      Real          0           1  \n",
       "4                        http://abcn.ws      Real          0           1  \n",
       "..                                  ...       ...        ...         ...  \n",
       "177            http://rightwingnews.com      Fake          0           1  \n",
       "178      http://conservativetribune.com      Fake          1           1  \n",
       "179               http://clashdaily.com      Fake          0           1  \n",
       "180  http://www.thepoliticalinsider.com      Fake          0           1  \n",
       "181            http://rightwingnews.com      Fake          0           1  \n",
       "\n",
       "[174 rows x 6 columns]"
      ]
     },
     "execution_count": 198,
     "metadata": {},
     "output_type": "execute_result"
    }
   ],
   "source": [
    "New_df_clean"
   ]
  },
  {
   "cell_type": "markdown",
   "metadata": {},
   "source": [
    "## Analyse de données"
   ]
  },
  {
   "cell_type": "markdown",
   "metadata": {},
   "source": [
    "1. Etude des sources des informations"
   ]
  },
  {
   "cell_type": "code",
   "execution_count": 199,
   "metadata": {},
   "outputs": [],
   "source": [
    "#liste des sources ayant publié des Real news triée\n",
    "real_sources = New_df_clean[New_df_clean['news_type']=='Real']['source'].value_counts().sort_values(ascending=False).index"
   ]
  },
  {
   "cell_type": "code",
   "execution_count": 200,
   "metadata": {
    "scrolled": false
   },
   "outputs": [
    {
     "data": {
      "text/plain": [
       "Text(0.5, 1.0, 'Real News sources count')"
      ]
     },
     "execution_count": 200,
     "metadata": {},
     "output_type": "execute_result"
    },
    {
     "data": {
      "image/png": "[encoded data removed]",
      "text/plain": [
       "<Figure size 720x360 with 1 Axes>"
      ]
     },
     "metadata": {
      "needs_background": "light"
     },
     "output_type": "display_data"
    }
   ],
   "source": [
    "plt.close(\"all\")\n",
    "plt.figure(figsize=(10,5))\n",
    "sns.countplot(y='source', data=New_df_clean[New_df_clean['news_type']=='Real'],order=real_sources)\n",
    "plt.xlabel('Count')\n",
    "plt.ylabel('Source')\n",
    "plt.title('Real News sources count',fontsize=15)"
   ]
  },
  {
   "cell_type": "markdown",
   "metadata": {},
   "source": [
    "Les sources ayant publié le plus de real news sont politi.co puis cnn.it"
   ]
  },
  {
   "cell_type": "code",
   "execution_count": 201,
   "metadata": {},
   "outputs": [],
   "source": [
    "#liste des sources ayant publié des Real news triée\n",
    "fake_sources = New_df_clean[New_df_clean['news_type']=='Fake']['source'].value_counts().sort_values(ascending=False).index"
   ]
  },
  {
   "cell_type": "code",
   "execution_count": 202,
   "metadata": {
    "scrolled": false
   },
   "outputs": [
    {
     "data": {
      "text/plain": [
       "Text(0.5, 1.0, 'Fake News sources count')"
      ]
     },
     "execution_count": 202,
     "metadata": {},
     "output_type": "execute_result"
    },
    {
     "data": {
      "image/png": "[encoded data removed]",
      "text/plain": [
       "<Figure size 720x360 with 1 Axes>"
      ]
     },
     "metadata": {
      "needs_background": "light"
     },
     "output_type": "display_data"
    }
   ],
   "source": [
    "plt.close(\"all\")\n",
    "plt.figure(figsize=(10,5))\n",
    "sns.countplot(y='source', data=New_df_clean[New_df_clean['news_type']=='Fake'],order=fake_sources)\n",
    "plt.xlabel('Count')\n",
    "plt.ylabel('Source')\n",
    "plt.title('Fake News sources count',fontsize=15)"
   ]
  },
  {
   "cell_type": "markdown",
   "metadata": {},
   "source": [
    "Les deux sources les plus importantes de Fake news sont roghtwingsnews.com et freedomdaily.com"
   ]
  },
  {
   "cell_type": "code",
   "execution_count": 203,
   "metadata": {},
   "outputs": [],
   "source": [
    "sources = New_df_clean[\"source\"].unique()"
   ]
  },
  {
   "cell_type": "code",
   "execution_count": 204,
   "metadata": {},
   "outputs": [
    {
     "data": {
      "text/plain": [
       "['http://eaglerising.com',\n",
       " 'http://rightwingnews.com',\n",
       " 'http://occupydemocrats.com',\n",
       " 'http://conservativebyte.com',\n",
       " 'http://freedomdaily.com',\n",
       " 'http://www.addictinginfo.org',\n",
       " 'http://addictinginfo.org',\n",
       " 'http://winningdemocrats.com']"
      ]
     },
     "execution_count": 204,
     "metadata": {},
     "output_type": "execute_result"
    }
   ],
   "source": [
    "#liste des sources publiant des Fake et des Real News\n",
    "common_sources = []\n",
    "for s in sources:\n",
    "    if s in real_sources and s in fake_sources :\n",
    "        common_sources.append(s)\n",
    "        \n",
    "common_sources"
   ]
  },
  {
   "cell_type": "code",
   "execution_count": 205,
   "metadata": {},
   "outputs": [],
   "source": [
    "#Création d'une colonne contenant la source si dans la liste précédente 0 sinon\n",
    "New_df_clean['common_sources']=New_df_clean['source'].apply(lambda x: x if x in common_sources else 0)\n",
    "#Selection des sources communes\n",
    "common_df = New_df_clean[New_df_clean['common_sources']!=0]"
   ]
  },
  {
   "cell_type": "code",
   "execution_count": 206,
   "metadata": {},
   "outputs": [
    {
     "data": {
      "text/plain": [
       "Text(0.5, 1.0, 'Common Sources count')"
      ]
     },
     "execution_count": 206,
     "metadata": {},
     "output_type": "execute_result"
    },
    {
     "data": {
      "image/png": "[encoded data removed]",
      "text/plain": [
       "<Figure size 720x360 with 1 Axes>"
      ]
     },
     "metadata": {
      "needs_background": "light"
     },
     "output_type": "display_data"
    }
   ],
   "source": [
    "plt.close(\"all\")\n",
    "plt.figure(figsize=(10,5))\n",
    "sns.countplot(y='common_sources',data=common_df,hue='news_type')\n",
    "plt.xlabel('Count')\n",
    "plt.ylabel('Source')\n",
    "plt.legend( title='News Type')\n",
    "plt.title('Common Sources count',fontsize=20)\n"
   ]
  },
  {
   "cell_type": "markdown",
   "metadata": {},
   "source": [
    "2. Etude de la présence de medias dans l'article "
   ]
  },
  {
   "cell_type": "code",
   "execution_count": 207,
   "metadata": {},
   "outputs": [
    {
     "data": {
      "text/plain": [
       "Text(0.5, 1.0, 'Number of news with or without movies by type')"
      ]
     },
     "execution_count": 207,
     "metadata": {},
     "output_type": "execute_result"
    },
    {
     "data": {
      "image/png": "[encoded data removed]",
      "text/plain": [
       "<Figure size 720x360 with 1 Axes>"
      ]
     },
     "metadata": {
      "needs_background": "light"
     },
     "output_type": "display_data"
    }
   ],
   "source": [
    "plt.close(\"all\")\n",
    "plt.figure(figsize=(10,5))\n",
    "sns.countplot(x='Has_movie', data=New_df_clean, hue='news_type')\n",
    "plt.xlabel('News wih movies or without')\n",
    "plt.ylabel('Count')\n",
    "plt.legend(title='News Type')\n",
    "plt.title('Number of news with or without movies by type')"
   ]
  },
  {
   "cell_type": "markdown",
   "metadata": {},
   "source": [
    "La plupart des News ne contiennent pas de vidéo"
   ]
  },
  {
   "cell_type": "code",
   "execution_count": 208,
   "metadata": {
    "scrolled": false
   },
   "outputs": [
    {
     "data": {
      "text/plain": [
       "Text(0.5, 1.0, 'Number of news with or without images by type')"
      ]
     },
     "execution_count": 208,
     "metadata": {},
     "output_type": "execute_result"
    },
    {
     "data": {
      "image/png": "[encoded data removed]",
      "text/plain": [
       "<Figure size 720x360 with 1 Axes>"
      ]
     },
     "metadata": {
      "needs_background": "light"
     },
     "output_type": "display_data"
    }
   ],
   "source": [
    "plt.close(\"all\")\n",
    "plt.figure(figsize=(10,5))\n",
    "sns.countplot(x='Has_images', data=New_df_clean, hue='news_type')\n",
    "plt.xlabel('News wih images or without')\n",
    "plt.ylabel('Count')\n",
    "plt.legend(title='News Type')\n",
    "plt.title('Number of news with or without images by type')"
   ]
  },
  {
   "cell_type": "markdown",
   "metadata": {},
   "source": [
    "La plupart des News contienent des images "
   ]
  },
  {
   "cell_type": "markdown",
   "metadata": {},
   "source": [
    "## Prerocessing"
   ]
  },
  {
   "cell_type": "markdown",
   "metadata": {},
   "source": [
    "On définie une fonction pour préparer les données textuelles en suivant les étapes suivantes :\n",
    "\n",
    "\n",
    "  Convertion du texte en minuscules\n",
    "\n",
    "  Retrait des chiffres présents dans le texte\n",
    "\n",
    "  Retrait des ponctuations\n",
    "\n",
    "  Rerait des caracteres spéciaux\n",
    "\n",
    "  Retrait des mots de liaison\n",
    "\n",
    "  Reduction des mots à leur racine\n",
    "\n",
    "  Retrait des espaces\n"
   ]
  },
  {
   "cell_type": "code",
   "execution_count": 209,
   "metadata": {},
   "outputs": [],
   "source": [
    "#Fonction de preprocessing du text\n",
    "def text_preprocess(str0):\n",
    "    ps=PorterStemmer()\n",
    "    wst= WhitespaceTokenizer() \n",
    "    str0 = str0.lower()\n",
    "    str1 = ''.join([i for i in str0 if not i.isdigit()])\n",
    "    str2 = str1.translate(str.maketrans('', '', string.punctuation))\n",
    "    str3 = ''.join(e for e in str2 if e.isalnum() or e==' ')\n",
    "    word_list = str3.split()\n",
    "    filtered_words = [word for word in word_list if word not in stopwords.words('english')]\n",
    "    str4 = ' '.join(filtered_words)\n",
    "    wordlist = word_tokenize(str4)\n",
    "    stem = [ps.stem(a) for a in wordlist]\n",
    "    str5 = ' '.join(stem)\n",
    "    str6 = wst.tokenize(str5)\n",
    "    return str6\n",
    "    "
   ]
  },
  {
   "cell_type": "code",
   "execution_count": 210,
   "metadata": {
    "scrolled": true
   },
   "outputs": [],
   "source": [
    "#Pretraitement de colonne source \n",
    "New_df_clean['source'] = New_df_clean['source'].apply(text_preprocess)\n",
    "New_df_clean['source'] = New_df_clean['source'].apply(lambda x : x[0])"
   ]
  },
  {
   "cell_type": "code",
   "execution_count": 211,
   "metadata": {},
   "outputs": [],
   "source": [
    "#On fusionne les diférents colonnes\n",
    "New_df_clean['title_text_source']=New_df_clean['title']+': ' +New_df_clean['text']+': ' +New_df_clean['source']"
   ]
  },
  {
   "cell_type": "code",
   "execution_count": 212,
   "metadata": {},
   "outputs": [],
   "source": [
    "X1=New_df_clean['title_text_source']\n",
    "y1=New_df_clean['news_type']"
   ]
  },
  {
   "cell_type": "code",
   "execution_count": 213,
   "metadata": {},
   "outputs": [],
   "source": [
    "X1_train, X1_test, y1_train, y1_test = train_test_split(X1, y1, test_size=0.25)"
   ]
  },
  {
   "cell_type": "code",
   "execution_count": 214,
   "metadata": {},
   "outputs": [],
   "source": [
    "pp=Pipeline([('bow',CountVectorizer(analyzer=text_preprocess)),('tfidf',TfidfTransformer()),('classifier',KNeighborsClassifier())])"
   ]
  },
  {
   "cell_type": "code",
   "execution_count": 215,
   "metadata": {},
   "outputs": [
    {
     "data": {
      "text/plain": [
       "Pipeline(steps=[('bow',\n",
       "                 CountVectorizer(analyzer=<function text_preprocess at 0x0000024E60648790>)),\n",
       "                ('tfidf', TfidfTransformer()),\n",
       "                ('classifier', KNeighborsClassifier())])"
      ]
     },
     "execution_count": 215,
     "metadata": {},
     "output_type": "execute_result"
    }
   ],
   "source": [
    "pp.fit(X1_train,y1_train)"
   ]
  },
  {
   "cell_type": "code",
   "execution_count": 216,
   "metadata": {},
   "outputs": [],
   "source": [
    "predict_KNN=pp.predict(X1_test)"
   ]
  },
  {
   "cell_type": "code",
   "execution_count": 217,
   "metadata": {},
   "outputs": [
    {
     "name": "stdout",
     "output_type": "stream",
     "text": [
      "              precision    recall  f1-score   support\n",
      "\n",
      "        Fake       0.83      0.62      0.71        24\n",
      "        Real       0.65      0.85      0.74        20\n",
      "\n",
      "    accuracy                           0.73        44\n",
      "   macro avg       0.74      0.74      0.73        44\n",
      "weighted avg       0.75      0.73      0.73        44\n",
      "\n"
     ]
    }
   ],
   "source": [
    "print(classification_report(y1_test, predict_KNN))"
   ]
  },
  {
   "cell_type": "markdown",
   "metadata": {},
   "source": [
    "*\n",
    "*\n",
    "*\n",
    "*\n",
    "**\n",
    "\n",
    "\n"
   ]
  },
  {
   "cell_type": "code",
   "execution_count": 218,
   "metadata": {},
   "outputs": [],
   "source": [
    "pp=Pipeline([('bow',CountVectorizer(analyzer=text_preprocess)),('tfidf',TfidfTransformer()),('classifier',DecisionTreeClassifier())])"
   ]
  },
  {
   "cell_type": "code",
   "execution_count": 219,
   "metadata": {},
   "outputs": [
    {
     "data": {
      "text/plain": [
       "Pipeline(steps=[('bow',\n",
       "                 CountVectorizer(analyzer=<function text_preprocess at 0x0000024E60648790>)),\n",
       "                ('tfidf', TfidfTransformer()),\n",
       "                ('classifier', DecisionTreeClassifier())])"
      ]
     },
     "execution_count": 219,
     "metadata": {},
     "output_type": "execute_result"
    }
   ],
   "source": [
    "pp.fit(X1_train,y1_train)"
   ]
  },
  {
   "cell_type": "code",
   "execution_count": 220,
   "metadata": {},
   "outputs": [],
   "source": [
    "predict_Dectree=pp.predict(X1_test)"
   ]
  },
  {
   "cell_type": "code",
   "execution_count": 221,
   "metadata": {},
   "outputs": [
    {
     "name": "stdout",
     "output_type": "stream",
     "text": [
      "              precision    recall  f1-score   support\n",
      "\n",
      "        Fake       0.59      0.54      0.57        24\n",
      "        Real       0.50      0.55      0.52        20\n",
      "\n",
      "    accuracy                           0.55        44\n",
      "   macro avg       0.55      0.55      0.54        44\n",
      "weighted avg       0.55      0.55      0.55        44\n",
      "\n"
     ]
    }
   ],
   "source": [
    "print(classification_report(y1_test, predict_Dectree))"
   ]
  },
  {
   "cell_type": "code",
   "execution_count": 222,
   "metadata": {},
   "outputs": [],
   "source": [
    "pp=Pipeline([('bow',CountVectorizer(analyzer=text_preprocess)),('tfidf',TfidfTransformer()),('classifier',MLPClassifier())])"
   ]
  },
  {
   "cell_type": "code",
   "execution_count": 223,
   "metadata": {},
   "outputs": [
    {
     "data": {
      "text/plain": [
       "Pipeline(steps=[('bow',\n",
       "                 CountVectorizer(analyzer=<function text_preprocess at 0x0000024E60648790>)),\n",
       "                ('tfidf', TfidfTransformer()),\n",
       "                ('classifier', MLPClassifier())])"
      ]
     },
     "execution_count": 223,
     "metadata": {},
     "output_type": "execute_result"
    }
   ],
   "source": [
    "pp.fit(X1_train,y1_train)"
   ]
  },
  {
   "cell_type": "code",
   "execution_count": 224,
   "metadata": {},
   "outputs": [],
   "source": [
    "predict_MLP=pp.predict(X1_test)"
   ]
  },
  {
   "cell_type": "code",
   "execution_count": 225,
   "metadata": {},
   "outputs": [
    {
     "name": "stdout",
     "output_type": "stream",
     "text": [
      "              precision    recall  f1-score   support\n",
      "\n",
      "        Fake       0.86      0.75      0.80        24\n",
      "        Real       0.74      0.85      0.79        20\n",
      "\n",
      "    accuracy                           0.80        44\n",
      "   macro avg       0.80      0.80      0.80        44\n",
      "weighted avg       0.80      0.80      0.80        44\n",
      "\n"
     ]
    }
   ],
   "source": [
    "print(classification_report(y1_test, predict_MLP))"
   ]
  },
  {
   "cell_type": "code",
   "execution_count": null,
   "metadata": {},
   "outputs": [],
   "source": []
  }
 ],
 "metadata": {
  "anaconda-cloud": {},
  "kernelspec": {
   "display_name": "SD701env",
   "language": "python",
   "name": "sd701env"
  },
  "language_info": {
   "codemirror_mode": {
    "name": "ipython",
    "version": 3
   },
   "file_extension": ".py",
   "mimetype": "text/x-python",
   "name": "python",
   "nbconvert_exporter": "python",
   "pygments_lexer": "ipython3",
   "version": "3.8.5"
  }
 },
 "nbformat": 4,
 "nbformat_minor": 4
}
